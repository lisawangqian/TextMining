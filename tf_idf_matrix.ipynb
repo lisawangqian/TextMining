{
 "cells": [
  {
   "cell_type": "code",
   "execution_count": 1,
   "metadata": {
    "collapsed": true
   },
   "outputs": [],
   "source": [
    "#Author: J\n",
    "import pandas as pd\n",
    "import numpy as np\n",
    "from collections import defaultdict"
   ]
  },
  {
   "cell_type": "code",
   "execution_count": 4,
   "metadata": {
    "collapsed": false
   },
   "outputs": [],
   "source": [
    "class tf_idf_matrix_generate():\n",
    "    def __init__(self, total_num_doc = 200, tf_file = \"tf_idf_big.txt\", corpus_file = \"corpus_big.txt\"):\n",
    "        self.total_num_doc = total_num_doc\n",
    "        self.tf_file = tf_file\n",
    "        self.corpus_file = corpus_file\n",
    "        self.word_counts = {}\n",
    "        self.corpus = []\n",
    "    \n",
    "    def tf_idf_matrix(self):\n",
    "        with open(self.tf_file, 'r') as f:\n",
    "            for line in f:\n",
    "                if line:\n",
    "                    a, b = line.split()\n",
    "                    a_use = a.replace(\"[\", \"\").replace(\"]\", \"\").split(',')\n",
    "                   \n",
    "                    doc, term = int(a_use[0]), a_use[1]\n",
    "                    tf_idf = float(b)\n",
    "                    if term not in self.word_counts:\n",
    "                        self.word_counts[term] = [0] * self.total_num_doc\n",
    "                    self.word_counts[term][doc] = tf_idf\n",
    "        f.close()\n",
    "        \n",
    "        with open(self.corpus_file, 'w') as f:\n",
    "            self.corpus = self.word_counts.keys()\n",
    "            f.write(\" \".join(self.corpus))\n",
    "        f.close()\n",
    "    \n",
    "        return self.word_counts\n",
    "    \n",
    "    def save_txt(self, savefile = \"tf_idf_matrix_big.txt\"):\n",
    "        data = np.array(self.word_counts.values()).T\n",
    "        index = np.array([range(self.total_num_doc)]).T\n",
    "        data_pre = np.hstack((index, data)).astype(object)\n",
    "        data_pre[:,0] = data_pre[:,0].astype(int)\n",
    "        \n",
    "        fmt = ['%d']\n",
    "        for i in range(len(self.corpus)): \n",
    "            fmt.append('%.9f') \n",
    "        \n",
    "        with file(savefile, 'w') as outfile:\n",
    "            np.savetxt(outfile, data_pre, fmt= fmt)\n",
    "        outfile.close()\n",
    "        \n",
    "    "
   ]
  },
  {
   "cell_type": "code",
   "execution_count": 5,
   "metadata": {
    "collapsed": false
   },
   "outputs": [],
   "source": [
    "ob = tf_idf_matrix_generate()\n",
    "word_counts = ob.tf_idf_matrix()\n",
    "ob.save_txt()\n",
    "\n",
    "\n"
   ]
  },
  {
   "cell_type": "code",
   "execution_count": null,
   "metadata": {
    "collapsed": true
   },
   "outputs": [],
   "source": []
  }
 ],
 "metadata": {
  "kernelspec": {
   "display_name": "Python 2",
   "language": "python",
   "name": "python2"
  },
  "language_info": {
   "codemirror_mode": {
    "name": "ipython",
    "version": 2
   },
   "file_extension": ".py",
   "mimetype": "text/x-python",
   "name": "python",
   "nbconvert_exporter": "python",
   "pygments_lexer": "ipython2",
   "version": "2.7.12"
  }
 },
 "nbformat": 4,
 "nbformat_minor": 0
}
