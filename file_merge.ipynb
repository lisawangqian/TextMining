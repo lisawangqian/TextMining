{
 "cells": [
  {
   "cell_type": "code",
   "execution_count": 6,
   "metadata": {
    "collapsed": true
   },
   "outputs": [],
   "source": [
    "#author: Qian Wang & Qianyu Deng\n",
    "import os\n",
    "import codecs\n",
    "import numpy as np\n",
    "import pandas as pd"
   ]
  },
  {
   "cell_type": "code",
   "execution_count": 2,
   "metadata": {
    "collapsed": true
   },
   "outputs": [],
   "source": [
    "def merge_file():\n",
    "    path = \"big_review/\"\n",
    "    resName = \"review_clean_big.txt\"\n",
    "    if os.path.exists(resName):\n",
    "        os.remove(resName)\n",
    "    result = codecs.open(resName, 'w', 'utf-8')\n",
    "\n",
    "    num = 0\n",
    "    while num <= 9:\n",
    "        name = \"review_clean_big\"+str(num)\n",
    "        fileName = path + str(name) + \".txt\"\n",
    "        source = open(fileName, 'r')\n",
    "        line = source.readline()\n",
    "        while line != \"\":\n",
    "            line = unicode(line, \"utf-8\")\n",
    "            result.write(line)\n",
    "            line = source.readline()\n",
    "        else:\n",
    "            print 'End file: ' + str(num)\n",
    "            result.write('\\r\\n')\n",
    "            source.close()\n",
    "        num = num + 1\n",
    "\n",
    "    else:\n",
    "        print 'End All'\n",
    "        result.close()"
   ]
  },
  {
   "cell_type": "code",
   "execution_count": 4,
   "metadata": {
    "collapsed": false
   },
   "outputs": [
    {
     "name": "stdout",
     "output_type": "stream",
     "text": [
      "End file: 0\n",
      "End file: 1\n",
      "End file: 2\n",
      "End file: 3\n",
      "End file: 4\n",
      "End file: 5\n",
      "End file: 6\n",
      "End file: 7\n",
      "End file: 8\n",
      "End file: 9\n",
      "End All\n"
     ]
    }
   ],
   "source": [
    "merge_file()"
   ]
  },
  {
   "cell_type": "code",
   "execution_count": 13,
   "metadata": {
    "collapsed": true
   },
   "outputs": [],
   "source": [
    "def merge_csv_file():\n",
    "    path = \"bigcsv/\"\n",
    "    \n",
    "    result = pd.DataFrame()\n",
    "    num = 0\n",
    "    count = 0\n",
    "    while num <= 9:\n",
    "        name = \"data_feature_big\"+str(num)\n",
    "        fileName = path + str(name) + \".csv\"\n",
    "        count+=20\n",
    "        index = range(count-20, count)\n",
    "        datafr = pd.read_csv(fileName)\n",
    "        datafr[\"Unnamed: 0\"] = index\n",
    "        datafr.rename(columns={'Unnamed: 0': 'index'}, inplace=True)\n",
    "        result = pd.concat([result, datafr])\n",
    "        \n",
    "        num = num + 1\n",
    "\n",
    "    else:\n",
    "        print 'End All'\n",
    "        \n",
    "        \n",
    "        \n",
    "    resName = \"data_feature_big.csv\"\n",
    "    if os.path.exists(resName):\n",
    "        os.remove(resName)\n",
    "    result.to_csv(resName)\n",
    "\n"
   ]
  },
  {
   "cell_type": "code",
   "execution_count": 14,
   "metadata": {
    "collapsed": false
   },
   "outputs": [
    {
     "name": "stdout",
     "output_type": "stream",
     "text": [
      "End All\n"
     ]
    }
   ],
   "source": [
    "merge_csv_file()"
   ]
  },
  {
   "cell_type": "code",
   "execution_count": null,
   "metadata": {
    "collapsed": true
   },
   "outputs": [],
   "source": []
  }
 ],
 "metadata": {
  "kernelspec": {
   "display_name": "Python 2",
   "language": "python",
   "name": "python2"
  },
  "language_info": {
   "codemirror_mode": {
    "name": "ipython",
    "version": 2
   },
   "file_extension": ".py",
   "mimetype": "text/x-python",
   "name": "python",
   "nbconvert_exporter": "python",
   "pygments_lexer": "ipython2",
   "version": "2.7.12"
  }
 },
 "nbformat": 4,
 "nbformat_minor": 0
}
