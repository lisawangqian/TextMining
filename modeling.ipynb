{
 "cells": [
  {
   "cell_type": "code",
   "execution_count": 1,
   "metadata": {
    "collapsed": true
   },
   "outputs": [],
   "source": [
    "#Author: Qian Wang\n",
    "import os\n",
    "import numpy as np\n",
    "import pandas as pd\n",
    "total_num_doc = 200"
   ]
  },
  {
   "cell_type": "code",
   "execution_count": 2,
   "metadata": {
    "collapsed": false
   },
   "outputs": [],
   "source": [
    "def get_filepaths(directory):\n",
    "    \n",
    "    file_paths = []  # List which will store all of the full filepaths.\n",
    "\n",
    "    # Walk the tree.\n",
    "    for root, directories, files in os.walk(directory):\n",
    "        for filename in files:\n",
    "            # Join the two strings in order to form the full filepath.\n",
    "            filepath = os.path.join(root, filename)\n",
    "            file_paths.append(filepath)  # Add it to the list.\n",
    "\n",
    "    return file_paths  # Self-explanatory.\n",
    "  \n",
    "def get_words(full_file_path, word_map):\n",
    "    words = []\n",
    "    \n",
    "    for each in full_file_path:\n",
    "        \n",
    "        if (each.split(\"/\")[-1][0] == \".\"):\n",
    "            pass\n",
    "        else:\n",
    "           \n",
    "            with open(each, 'r') as f:\n",
    "                if f:\n",
    "                    for eachline in f:\n",
    "                        if eachline:\n",
    "                            each = eachline.replace(\"(\",\"\").replace(\")\", \"\").replace(\"[\", \"\").replace(\"]\", \"\")\n",
    "                            each = each.strip().split(',')\n",
    "                            cluster_id = int(each[0])\n",
    "                            words_index = np.array(map(int, each[1:]))\n",
    "                            \n",
    "                            words.append(list(word_map[words_index]))\n",
    "            f.close()\n",
    "    return words\n",
    "            \n",
    "if __name__ == \"__main__\":    \n",
    "    word_map = np.loadtxt(\"corpus_big.txt\", dtype = 'string', delimiter=\" \")\n",
    "    full_file_paths = get_filepaths(\"topwords_big\")\n",
    "    words = get_words(full_file_paths, word_map)\n",
    "    with open(\"topwords.txt\", 'w') as f:\n",
    "        word = []\n",
    "        for each in words:\n",
    "            word += each\n",
    "            f.write(str(each))\n",
    "            f.write(\"\\n\")\n",
    "    f.close()\n",
    "\n",
    "    wordflag = map(lambda x: x[1:-1], set(word))"
   ]
  },
  {
   "cell_type": "code",
   "execution_count": 14,
   "metadata": {
    "collapsed": false
   },
   "outputs": [],
   "source": [
    "from sklearn.preprocessing import MinMaxScaler\n",
    "df_data = pd.read_csv(\"data_feature_big.csv\")\n",
    "word_dict = {}\n",
    "for each in wordflag:\n",
    "    word_dict[each] = [0]*total_num_doc\n",
    "\n",
    "with file(\"review_clean_big.txt\", 'r') as f:\n",
    "    for each in f:\n",
    "        if each:\n",
    "            each = each.strip().split()\n",
    "            index = int(each[0])\n",
    "            terms = each[1:]\n",
    "            for eachword in terms:\n",
    "                if eachword in wordflag: \n",
    "                    \n",
    "                    (word_dict[eachword][index]) += 1\n",
    "                    \n",
    "for (key, value) in word_dict.items():\n",
    "    df_data[key] = np.array(value).T \n",
    "df_data['claimed'] = df_data['is_claimed'].map(lambda x: 1 if x==\"True\" else 0)\n",
    "df_data['location'] = df_data['city'].map(lambda x: 1 if x==\"New York\" else 0)\n",
    "df_data['revcnt_norm'] = MinMaxScaler().fit_transform(df_data['review_count'] )"
   ]
  },
  {
   "cell_type": "code",
   "execution_count": 17,
   "metadata": {
    "collapsed": false
   },
   "outputs": [
    {
     "name": "stdout",
     "output_type": "stream",
     "text": [
      "Index([u'mexican', u'mikkey', u'asian', u'zeu', u'lassi', u'calamari',\n",
      "       u'brunch', u'samosa', u'warren', u'rajun',\n",
      "       ...\n",
      "       u'burrito', u'gyro', u'dog', u'mango', u'egg', u'newli', u'wine',\n",
      "       u'claimed', u'location', u'revcnt_norm'],\n",
      "      dtype='object', length=135)\n"
     ]
    }
   ],
   "source": [
    "X_data = df_data.drop(['Unnamed: 0', 'index', 'city', 'review_count', 'is_claimed','name', 'url', 'rating'], axis = 1)\n",
    "y_data = df_data['rating'].map(lambda x: 1 if x> 4 else 0)\n",
    "print X_data.columns"
   ]
  },
  {
   "cell_type": "code",
   "execution_count": 60,
   "metadata": {
    "collapsed": false
   },
   "outputs": [],
   "source": [
    "import matplotlib as mpl\n",
    "import matplotlib.pyplot as plt\n",
    "from matplotlib import cm\n",
    "from mpl_toolkits.mplot3d import Axes3D\n",
    "from __future__ import division\n",
    "from sklearn import metrics\n",
    "\n",
    "from sklearn.metrics import f1_score\n",
    "from sklearn.metrics import roc_curve, auc\n",
    "from sklearn.grid_search import GridSearchCV\n",
    "\n",
    "from sklearn.learning_curve import learning_curve\n",
    "from sklearn.learning_curve import validation_curve\n",
    "from sklearn.cross_validation import cross_val_score\n",
    "from sklearn.cross_validation import train_test_split\n",
    "\n",
    "from sklearn.linear_model import LogisticRegression\n",
    "from sklearn.linear_model import SGDClassifier\n",
    "\n",
    "\n",
    "from sklearn.ensemble import RandomForestClassifier \n",
    "from sklearn.ensemble import ExtraTreesClassifier\n",
    "\n",
    "\n",
    "from sklearn.feature_selection import SelectKBest\n",
    "from sklearn.feature_selection import chi2\n",
    "from sklearn.feature_selection import RFECV\n",
    "\n",
    "import warnings\n",
    "warnings.filterwarnings(\"ignore\")\n",
    "\n",
    "\n",
    "%matplotlib inline\n",
    "mpl.rc('figure', figsize=[10,6]) # make the figures bigger\n"
   ]
  },
  {
   "cell_type": "code",
   "execution_count": 61,
   "metadata": {
    "collapsed": true
   },
   "outputs": [],
   "source": [
    "X_train, X_hold, y_train, y_hold = train_test_split(X_data, y_data, test_size=0.2, random_state = 42)"
   ]
  },
  {
   "cell_type": "code",
   "execution_count": 62,
   "metadata": {
    "collapsed": false
   },
   "outputs": [
    {
     "name": "stdout",
     "output_type": "stream",
     "text": [
      "Index([u'brunch', u'shanghai', u'pad', u'rice', u'vegan', u'game', u'ramen',\n",
      "       u'cheesecak', u'dumpl', u'cafecito', u'fish', u'burger', u'lobster',\n",
      "       u'poke', u'sum', u'smoothi', u'pasta', u'curri', u'owl', u'duck',\n",
      "       u'beer', u'crab', u'lou', u'm2', u'frite', u'thai', u'donut', u'hyde',\n",
      "       u'breakroom', u'deep', u'branko', u'bowl', u'torta', u'roll', u'pho',\n",
      "       u'salsa', u'tuna', u'oyster', u'burrito', u'wine'],\n",
      "      dtype='object')\n"
     ]
    }
   ],
   "source": [
    "b = SelectKBest(chi2, k=40)\n",
    "X_new = b.fit_transform(X_train, y_train)\n",
    "print X_train.columns[b.get_support()]"
   ]
  },
  {
   "cell_type": "code",
   "execution_count": 35,
   "metadata": {
    "collapsed": false
   },
   "outputs": [
    {
     "name": "stdout",
     "output_type": "stream",
     "text": [
      "Top 20 features:\n",
      "1. revcnt_norm (0.062245)\n",
      "2. wine (0.033852)\n",
      "3. bowl (0.028086)\n",
      "4. rice (0.025132)\n",
      "5. fri (0.024507)\n",
      "6. bread (0.023955)\n",
      "7. sandwich (0.023331)\n",
      "8. cocktail (0.018591)\n",
      "9. soup (0.018181)\n",
      "10. bar (0.018163)\n",
      "11. duck (0.017708)\n",
      "12. fish (0.017645)\n",
      "13. roll (0.017526)\n",
      "14. frite (0.016667)\n",
      "15. egg (0.015671)\n",
      "16. avocado (0.015607)\n",
      "17. brunch (0.015459)\n",
      "18. burger (0.015331)\n",
      "19. chicago (0.014805)\n",
      "20. italian (0.014758)\n"
     ]
    },
    {
     "data": {
      "image/png": "[encoded data removed]",
      "text/plain": [
       "<matplotlib.figure.Figure at 0x111b7c690>"
      ]
     },
     "metadata": {},
     "output_type": "display_data"
    }
   ],
   "source": [
    "def vrank(X, y):       \n",
    "        forest = RandomForestClassifier(n_estimators=250, random_state=0)\n",
    "        forest.fit(X, y)\n",
    "        importances = forest.feature_importances_\n",
    "        std = np.std([tree.feature_importances_ for tree in forest.estimators_], axis=0)\n",
    "        indices = np.argsort(importances)[::-1]\n",
    "        # Print the feature ranking\n",
    "        print  \"Top 20 features:\"\n",
    "        for f in range(20):\n",
    "            print(\"%d. %s (%f)\" % (f + 1, X.columns[indices[f]],importances[indices[f]]))\n",
    "        # Plot the feature importances of the forest\n",
    "        plt.figure()\n",
    "        plt.title(\"Feature importances\")\n",
    "        plt.bar(range(20), importances[indices[:20]], color=\"r\", yerr=std[indices[:20]], align=\"center\")\n",
    "        plt.xticks(range(20), X.columns[indices[:20]], rotation='vertical')\n",
    "        plt.xlim([-1, 20])\n",
    "        plt.show()\n",
    "        return X.columns[indices]\n",
    "rankfeatures = vrank(X_train, y_train)    "
   ]
  },
  {
   "cell_type": "code",
   "execution_count": 63,
   "metadata": {
    "collapsed": false
   },
   "outputs": [
    {
     "name": "stdout",
     "output_type": "stream",
     "text": [
      "Best parameters set found on development set:\n",
      "\n",
      "{'n_estimators': 10, 'max_depth': 100, 'class_weight': {1: 5}}\n",
      "0.656589246847\n",
      "0.25\n"
     ]
    }
   ],
   "source": [
    "#classification model using random forest\n",
    "class_weight = [{1:i} for i in range(1, 11)]\n",
    "\n",
    "rf = GridSearchCV(RandomForestClassifier(), param_grid={'max_depth': range(10, 101, 10), 'n_estimators': range(10, 51, 10), 'class_weight': class_weight}, cv = 5, scoring='f1_weighted')\n",
    "rf.fit(X_train, y_train)\n",
    "print \"Best parameters set found on development set:\"\n",
    "print\n",
    "print(rf.best_params_)\n",
    "print(rf.best_score_)\n",
    "\n",
    "rf_predict = rf.predict(X_hold)\n",
    "print f1_score(y_hold, rf_predict)\n"
   ]
  },
  {
   "cell_type": "code",
   "execution_count": 69,
   "metadata": {
    "collapsed": false
   },
   "outputs": [
    {
     "name": "stdout",
     "output_type": "stream",
     "text": [
      "Best parameters set found on development set:\n",
      "\n",
      "{'n_estimators': 10, 'max_depth': 90, 'class_weight': {1: 3}}\n",
      "0.658722527473\n",
      "0.181818181818\n"
     ]
    }
   ],
   "source": [
    "#classification model using ExtraTrees\n",
    "class_weight = [{1:i} for i in range(1, 11)]\n",
    "\n",
    "et = GridSearchCV(ExtraTreesClassifier(), param_grid={'max_depth': range(10, 101, 10), 'n_estimators': range(10, 51, 10), 'class_weight': class_weight}, cv = 5, scoring='f1_weighted')\n",
    "et.fit(X_train, y_train)\n",
    "print \"Best parameters set found on development set:\"\n",
    "print\n",
    "print(et.best_params_)\n",
    "print(et.best_score_)\n",
    "\n",
    "et_predict = et.predict(X_hold)\n",
    "print f1_score(y_hold, et_predict)\n"
   ]
  },
  {
   "cell_type": "code",
   "execution_count": 65,
   "metadata": {
    "collapsed": false
   },
   "outputs": [
    {
     "name": "stdout",
     "output_type": "stream",
     "text": [
      "Best parameters set found on development set:\n",
      "\n",
      "{'C': 0.1, 'class_weight': {1: 2}}\n",
      "0.64885280708\n",
      "0.173913043478\n"
     ]
    }
   ],
   "source": [
    "#classification model using Logistic Regression\n",
    "X_train_new = X_train[rankfeatures[:30]]\n",
    "X_hold_new = X_hold[rankfeatures[:30]]\n",
    "class_weight = [{1:i} for i in range(1, 11)]\n",
    "lr = GridSearchCV(LogisticRegression(), param_grid={'C':[0.01, 0.1, 1, 10, 100], 'class_weight': class_weight}, cv = 5, scoring='f1_weighted')\n",
    "lr.fit(X_train_new, y_train)\n",
    "print \"Best parameters set found on development set:\"\n",
    "print\n",
    "print(lr.best_params_)\n",
    "print(lr.best_score_)\n",
    "\n",
    "lr_predict = lr.predict(X_hold_new)\n",
    "print f1_score(y_hold, lr_predict)"
   ]
  },
  {
   "cell_type": "code",
   "execution_count": 66,
   "metadata": {
    "collapsed": false
   },
   "outputs": [
    {
     "name": "stdout",
     "output_type": "stream",
     "text": [
      "Best parameters set found on development set:\n",
      "\n",
      "{'alpha': 1, 'class_weight': {1: 1}}\n",
      "0.678932258695\n",
      "0.181818181818\n"
     ]
    }
   ],
   "source": [
    "#classification model using SGD\n",
    "class_weight = [{1:i} for i in range(1, 11)]\n",
    "sgd = GridSearchCV(SGDClassifier(), param_grid={'alpha':[0.0001, 0.001, 0.01, 0.1, 1, 10, 100], 'class_weight': class_weight}, cv = 5, scoring='f1_weighted')\n",
    "sgd.fit(X_train_new, y_train)\n",
    "print \"Best parameters set found on development set:\"\n",
    "print\n",
    "print(sgd.best_params_)\n",
    "print(sgd.best_score_)\n",
    "\n",
    "sgd_predict = sgd.predict(X_hold_new)\n",
    "print f1_score(y_hold, sgd_predict)"
   ]
  },
  {
   "cell_type": "code",
   "execution_count": 75,
   "metadata": {
    "collapsed": false
   },
   "outputs": [
    {
     "data": {
      "image/png": "[encoded data removed]",
      "text/plain": [
       "<matplotlib.figure.Figure at 0x10ca7be50>"
      ]
     },
     "metadata": {},
     "output_type": "display_data"
    }
   ],
   "source": [
    "rf_score = rf.predict_proba(X_hold)[:, 1]\n",
    "et_score = et.predict_proba(X_hold)[:, 1]\n",
    "lr_score = lr.predict_proba(X_hold_new)[:, 1]\n",
    "\n",
    "\n",
    "fpr1, tpr1, thresholds1 = roc_curve(np.array(y_hold), rf_score)\n",
    "fpr2, tpr2, thresholds2 = roc_curve(np.array(y_hold), et_score)\n",
    "fpr3, tpr3, thresholds3 = roc_curve(np.array(y_hold), lr_score)\n",
    "\n",
    "plt.figure(1)\n",
    "plt.plot([0, 1], [0, 1], 'k--')\n",
    "\n",
    "plt.plot(fpr1, tpr1, color = 'blue', label = \"Random Forest\")\n",
    "plt.plot(fpr2, tpr2, color = 'red', label = \"Extra Trees\")\n",
    "plt.plot(fpr3, tpr3, color = 'yellow', label = \"Logistic Regression\")\n",
    "\n",
    "plt.xlabel('False positive rate')\n",
    "plt.ylabel('True positive rate')\n",
    "plt.title('ROC curve')\n",
    "plt.legend(loc='best')\n",
    "plt.show()"
   ]
  },
  {
   "cell_type": "code",
   "execution_count": null,
   "metadata": {
    "collapsed": true
   },
   "outputs": [],
   "source": []
  }
 ],
 "metadata": {
  "kernelspec": {
   "display_name": "Python 2",
   "language": "python",
   "name": "python2"
  },
  "language_info": {
   "codemirror_mode": {
    "name": "ipython",
    "version": 2
   },
   "file_extension": ".py",
   "mimetype": "text/x-python",
   "name": "python",
   "nbconvert_exporter": "python",
   "pygments_lexer": "ipython2",
   "version": "2.7.12"
  }
 },
 "nbformat": 4,
 "nbformat_minor": 0
}
